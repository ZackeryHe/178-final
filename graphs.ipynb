{
 "cells": [
  {
   "cell_type": "code",
   "execution_count": 2,
   "id": "0b722dfc",
   "metadata": {},
   "outputs": [
    {
     "name": "stdout",
     "output_type": "stream",
     "text": [
      "curr path /Users/zackeryhe/Desktop/sophomore/cs178/178-final\n"
     ]
    }
   ],
   "source": [
    "import os\n",
    "import import_ipynb\n",
    "from sklearn.preprocessing import StandardScaler\n",
    "\n",
    "from utils.mnist_reader import load_mnist\n",
    "\n",
    "\n",
    "# os.chdir(\"models\")\n",
    "# # %run knn.ipynb\n",
    "# from knn import KNNModel\n",
    "# os.chdir(\"..\")\n",
    "print(\"curr path\", os.getcwd())\n"
   ]
  },
  {
   "cell_type": "code",
   "execution_count": 6,
   "id": "631285a5",
   "metadata": {},
   "outputs": [
    {
     "name": "stdout",
     "output_type": "stream",
     "text": [
      "{'T-shirt/top': {'precision': 0.741991341991342, 'recall': 0.857, 'f1-score': 0.7953596287703016, 'support': 1000.0}, 'Trouser': {'precision': 0.9857723577235772, 'recall': 0.97, 'f1-score': 0.9778225806451613, 'support': 1000.0}, 'Pullover': {'precision': 0.7304507819687213, 'recall': 0.794, 'f1-score': 0.7609008145663632, 'support': 1000.0}, 'Dress': {'precision': 0.9007391763463569, 'recall': 0.853, 'f1-score': 0.8762198253723678, 'support': 1000.0}, 'Coat': {'precision': 0.7817418677859391, 'recall': 0.745, 'f1-score': 0.7629288274449565, 'support': 1000.0}, 'Sandal': {'precision': 0.9793103448275862, 'recall': 0.852, 'f1-score': 0.9112299465240642, 'support': 1000.0}, 'Shirt': {'precision': 0.6360691144708424, 'recall': 0.589, 'f1-score': 0.6116303219106958, 'support': 1000.0}, 'Sneaker': {'precision': 0.8896164639850327, 'recall': 0.951, 'f1-score': 0.9192846785886902, 'support': 1000.0}, 'Bag': {'precision': 0.9840595111583422, 'recall': 0.926, 'f1-score': 0.9541473467284904, 'support': 1000.0}, 'Ankle boot': {'precision': 0.8979400749063671, 'recall': 0.959, 'f1-score': 0.9274661508704062, 'support': 1000.0}, 'accuracy': 0.8496, 'macro avg': {'precision': 0.8527691035164107, 'recall': 0.8496, 'f1-score': 0.8496990121421497, 'support': 10000.0}, 'weighted avg': {'precision': 0.8527691035164108, 'recall': 0.8496, 'f1-score': 0.8496990121421497, 'support': 10000.0}}\n"
     ]
    }
   ],
   "source": [
    "from sklearn.neighbors import KNeighborsClassifier\n",
    "from sklearn.metrics import classification_report\n",
    "\n",
    "X_train, y_train = load_mnist('data/fashion', kind='train')\n",
    "X_test,  y_test  = load_mnist('data/fashion', kind='t10k')\n",
    "\n",
    "\n",
    "scaler = StandardScaler()\n",
    "X_train = scaler.fit_transform(X_train)\n",
    "X_test  = scaler.transform(X_test)\n",
    "\n",
    "knn = KNeighborsClassifier(n_neighbors=3)\n",
    "knn.fit(X_train, y_train)\n",
    "\n",
    "r1 = classification_report(y_test, knn.predict(X_test), target_names=['T-shirt/top', 'Trouser', 'Pullover', 'Dress', 'Coat', 'Sandal', 'Shirt', 'Sneaker', 'Bag', 'Ankle boot'], output_dict=True)\n",
    "print(r1)"
   ]
  },
  {
   "cell_type": "code",
   "execution_count": null,
   "id": "e77d5a05",
   "metadata": {},
   "outputs": [],
   "source": [
    "def scale_data(X_tr: np.array, X_te: np.array) -> tuple[np.array, np.array]:\n",
    "    scaler_tr = StandardScaler()\n",
    "    \n",
    "    scaler_tr.fit(X_tr)\n",
    "\n",
    "    X_tr_scaled = scaler_tr.transform(X_tr)\n",
    "    X_te_scaled= scaler_tr.transform(X_te)\n",
    "    return X_tr_scaled, X_te_scaled"
   ]
  },
  {
   "cell_type": "code",
   "execution_count": null,
   "id": "3edc6b09",
   "metadata": {},
   "outputs": [
    {
     "ename": "NameError",
     "evalue": "name 'scale_data' is not defined",
     "output_type": "error",
     "traceback": [
      "\u001b[31m---------------------------------------------------------------------------\u001b[39m",
      "\u001b[31mNameError\u001b[39m                                 Traceback (most recent call last)",
      "\u001b[36mCell\u001b[39m\u001b[36m \u001b[39m\u001b[32mIn[7]\u001b[39m\u001b[32m, line 4\u001b[39m\n\u001b[32m      2\u001b[39m X_train, y_train = load_mnist(\u001b[33m'\u001b[39m\u001b[33mdata/fashion\u001b[39m\u001b[33m'\u001b[39m, kind=\u001b[33m'\u001b[39m\u001b[33mtrain\u001b[39m\u001b[33m'\u001b[39m)\n\u001b[32m      3\u001b[39m X_test,  y_test  = load_mnist(\u001b[33m'\u001b[39m\u001b[33mdata/fashion\u001b[39m\u001b[33m'\u001b[39m, kind=\u001b[33m'\u001b[39m\u001b[33mt10k\u001b[39m\u001b[33m'\u001b[39m)\n\u001b[32m----> \u001b[39m\u001b[32m4\u001b[39m X_tr_scaled, X_te_scaled = \u001b[43mscale_data\u001b[49m(X_train, X_test)\n\u001b[32m      5\u001b[39m best_model = LogisticRegression(max_iter=\u001b[32m1500\u001b[39m, C=\u001b[32m0.3\u001b[39m,random_state=\u001b[32m1234\u001b[39m, solver=\u001b[33m\"\u001b[39m\u001b[33msaga\u001b[39m\u001b[33m\"\u001b[39m)\n\u001b[32m      6\u001b[39m best_model.fit(X_tr_scaled, y_train)\n",
      "\u001b[31mNameError\u001b[39m: name 'scale_data' is not defined"
     ]
    }
   ],
   "source": [
    "from sklearn.linear_model import LogisticRegression\n",
    "\n",
    "\n",
    "X_train, y_train = load_mnist('data/fashion', kind='train')\n",
    "X_test,  y_test  = load_mnist('data/fashion', kind='t10k')\n",
    "X_tr_scaled, X_te_scaled = scale_data(X_train, X_test)\n",
    "best_model = LogisticRegression(max_iter=1500, C=0.3,random_state=1234, solver=\"saga\")\n",
    "best_model.fit(X_tr_scaled, y_train)"
   ]
  },
  {
   "cell_type": "code",
   "execution_count": null,
   "id": "36494a0c",
   "metadata": {},
   "outputs": [
    {
     "name": "stdout",
     "output_type": "stream",
     "text": [
      "{'T-shirt/top': {'precision': 0.8057768924302788, 'recall': 0.809, 'f1-score': 0.8073852295409182, 'support': 1000.0}, 'Trouser': {'precision': 0.9726443768996961, 'recall': 0.96, 'f1-score': 0.9662808253648717, 'support': 1000.0}, 'Pullover': {'precision': 0.7277227722772277, 'recall': 0.735, 'f1-score': 0.7313432835820896, 'support': 1000.0}, 'Dress': {'precision': 0.8318840579710145, 'recall': 0.861, 'f1-score': 0.8461916461916462, 'support': 1000.0}, 'Coat': {'precision': 0.7368421052631579, 'recall': 0.756, 'f1-score': 0.7462981243830207, 'support': 1000.0}, 'Sandal': {'precision': 0.9415384615384615, 'recall': 0.918, 'f1-score': 0.929620253164557, 'support': 1000.0}, 'Shirt': {'precision': 0.625, 'recall': 0.575, 'f1-score': 0.5989583333333334, 'support': 1000.0}, 'Sneaker': {'precision': 0.9028846153846154, 'recall': 0.939, 'f1-score': 0.9205882352941176, 'support': 1000.0}, 'Bag': {'precision': 0.9280719280719281, 'recall': 0.929, 'f1-score': 0.928535732133933, 'support': 1000.0}, 'Ankle boot': {'precision': 0.9451097804391217, 'recall': 0.947, 'f1-score': 0.9460539460539461, 'support': 1000.0}, 'accuracy': 0.8429, 'macro avg': {'precision': 0.8417474990275501, 'recall': 0.8429, 'f1-score': 0.8421255609042433, 'support': 10000.0}, 'weighted avg': {'precision': 0.8417474990275501, 'recall': 0.8429, 'f1-score': 0.8421255609042433, 'support': 10000.0}}\n"
     ]
    }
   ],
   "source": [
    "y_pred = best_model.predict(X_te_scaled)\n",
    "\n",
    "\n",
    "\n",
    "r2 = classification_report(y_test, y_pred, target_names=[\"T-shirt/top\",\"Trouser\", \"Pullover\", \"Dress\", \"Coat\", \"Sandal\",\n",
    "                                                        \"Shirt\", \"Sneaker\", \"Bag\", \"Ankle boot\"],\n",
    "                                            output_dict=True)\n",
    "print(r2)"
   ]
  },
  {
   "cell_type": "code",
   "execution_count": 10,
   "id": "c4c8444a",
   "metadata": {},
   "outputs": [
    {
     "name": "stdout",
     "output_type": "stream",
     "text": [
      "{'T-shirt/top': {'precision': 0.8215353938185443, 'recall': 0.824, 'f1-score': 0.8227658512231653, 'support': 1000.0}, 'Trouser': {'precision': 0.9908256880733946, 'recall': 0.972, 'f1-score': 0.9813225643614336, 'support': 1000.0}, 'Pullover': {'precision': 0.8071928071928072, 'recall': 0.808, 'f1-score': 0.8075962018990505, 'support': 1000.0}, 'Dress': {'precision': 0.875, 'recall': 0.896, 'f1-score': 0.8853754940711462, 'support': 1000.0}, 'Coat': {'precision': 0.8208208208208209, 'recall': 0.82, 'f1-score': 0.8204102051025512, 'support': 1000.0}, 'Sandal': {'precision': 0.958502024291498, 'recall': 0.947, 'f1-score': 0.9527162977867203, 'support': 1000.0}, 'Shirt': {'precision': 0.6977687626774848, 'recall': 0.688, 'f1-score': 0.6928499496475328, 'support': 1000.0}, 'Sneaker': {'precision': 0.9436201780415431, 'recall': 0.954, 'f1-score': 0.9487817006464445, 'support': 1000.0}, 'Bag': {'precision': 0.963819095477387, 'recall': 0.959, 'f1-score': 0.9614035087719298, 'support': 1000.0}, 'Ankle boot': {'precision': 0.950592885375494, 'recall': 0.962, 'f1-score': 0.9562624254473161, 'support': 1000.0}, 'accuracy': 0.883, 'macro avg': {'precision': 0.8829677655768974, 'recall': 0.883, 'f1-score': 0.882948419895729, 'support': 10000.0}, 'weighted avg': {'precision': 0.8829677655768974, 'recall': 0.883, 'f1-score': 0.8829484198957289, 'support': 10000.0}}\n"
     ]
    }
   ],
   "source": [
    "from sklearn.neural_network import MLPClassifier\n",
    "\n",
    "X_train, y_train = load_mnist('data/fashion', kind='train')\n",
    "X_test,  y_test  = load_mnist('data/fashion', kind='t10k')\n",
    "X_tr_scaled, X_te_scaled = scale_data(X_train, X_test)\n",
    "\n",
    "model = MLPClassifier(hidden_layer_sizes=(200, 100), activation='relu', solver='sgd', alpha=0.0001, batch_size=256, learning_rate='constant', learning_rate_init=0.01, max_iter=500, shuffle=True, random_state=1234, tol=0.0001, verbose=False, warm_start=False, momentum=0.9, nesterovs_momentum=True, early_stopping=True, validation_fraction=0.1, beta_1=0.9, beta_2=0.999, epsilon=1e-08, n_iter_no_change=100, max_fun=15000)\n",
    "model.fit(X_tr_scaled, y_train)\n",
    "\n",
    "r3 = classification_report(y_test, model.predict(X_te_scaled), target_names=[\"T-shirt/top\",\"Trouser\", \"Pullover\", \"Dress\", \"Coat\", \"Sandal\",\n",
    "                                                        \"Shirt\", \"Sneaker\", \"Bag\", \"Ankle boot\"],\n",
    "                                            output_dict=True)\n",
    "print(r3)"
   ]
  },
  {
   "cell_type": "code",
   "execution_count": 1,
   "id": "31e4f3da",
   "metadata": {},
   "outputs": [
    {
     "ename": "NameError",
     "evalue": "name 'load_mnist' is not defined",
     "output_type": "error",
     "traceback": [
      "\u001b[31m---------------------------------------------------------------------------\u001b[39m",
      "\u001b[31mNameError\u001b[39m                                 Traceback (most recent call last)",
      "\u001b[36mCell\u001b[39m\u001b[36m \u001b[39m\u001b[32mIn[1]\u001b[39m\u001b[32m, line 4\u001b[39m\n\u001b[32m      1\u001b[39m \u001b[38;5;28;01mfrom\u001b[39;00m\u001b[38;5;250m \u001b[39m\u001b[34;01msklearn\u001b[39;00m\u001b[38;5;250m \u001b[39m\u001b[38;5;28;01mimport\u001b[39;00m svm\n\u001b[32m      2\u001b[39m \u001b[38;5;28;01mfrom\u001b[39;00m\u001b[38;5;250m \u001b[39m\u001b[34;01msklearn\u001b[39;00m\u001b[34;01m.\u001b[39;00m\u001b[34;01mmodel_selection\u001b[39;00m\u001b[38;5;250m \u001b[39m\u001b[38;5;28;01mimport\u001b[39;00m train_test_split\n\u001b[32m----> \u001b[39m\u001b[32m4\u001b[39m X_train, y_train = \u001b[43mload_mnist\u001b[49m(\u001b[33m'\u001b[39m\u001b[33mdata/fashion\u001b[39m\u001b[33m'\u001b[39m, kind=\u001b[33m'\u001b[39m\u001b[33mtrain\u001b[39m\u001b[33m'\u001b[39m)\n\u001b[32m      5\u001b[39m X_test,  y_test  = load_mnist(\u001b[33m'\u001b[39m\u001b[33mdata/fashion\u001b[39m\u001b[33m'\u001b[39m, kind=\u001b[33m'\u001b[39m\u001b[33mt10k\u001b[39m\u001b[33m'\u001b[39m)\n\u001b[32m      7\u001b[39m frac = \u001b[32m0.01\u001b[39m\n",
      "\u001b[31mNameError\u001b[39m: name 'load_mnist' is not defined"
     ]
    }
   ],
   "source": [
    "from sklearn import svm\n",
    "from sklearn.model_selection import train_test_split\n",
    "\n",
    "X_train, y_train = load_mnist('data/fashion', kind='train')\n",
    "X_test,  y_test  = load_mnist('data/fashion', kind='t10k')\n",
    "\n",
    "frac = 0.01\n",
    "X_sub, _, y_sub, _ = train_test_split(\n",
    "    X_train, y_train,\n",
    "    train_size=frac,\n",
    "    stratify=y_train,\n",
    "    random_state=1234\n",
    ")\n",
    "\n",
    "X_tr_scaled, X_te_scaled = scale_data(X_sub, X_test)\n",
    "\n",
    "model = svm.SVC(kernel='linear', random_state=1234)\n",
    "model.fit(X_tr_scaled, y_sub)\n",
    "r4 = classification_report(y_test, model.predict(X_te_scaled), target_names=[\"T-shirt/top\",\"Trouser\", \"Pullover\", \"Dress\", \"Coat\", \"Sandal\",\n",
    "                                                        \"Shirt\", \"Sneaker\", \"Bag\", \"Ankle boot\"],\n",
    "                                            output_dict=True)"
   ]
  },
  {
   "cell_type": "code",
   "execution_count": null,
   "id": "7be57694",
   "metadata": {},
   "outputs": [],
   "source": []
  }
 ],
 "metadata": {
  "kernelspec": {
   "display_name": ".venv",
   "language": "python",
   "name": "python3"
  },
  "language_info": {
   "codemirror_mode": {
    "name": "ipython",
    "version": 3
   },
   "file_extension": ".py",
   "mimetype": "text/x-python",
   "name": "python",
   "nbconvert_exporter": "python",
   "pygments_lexer": "ipython3",
   "version": "3.12.4"
  }
 },
 "nbformat": 4,
 "nbformat_minor": 5
}
