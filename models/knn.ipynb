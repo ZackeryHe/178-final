{
 "cells": [
  {
   "cell_type": "code",
   "execution_count": null,
   "id": "1fd71b77",
   "metadata": {},
   "outputs": [
    {
     "name": "stdout",
     "output_type": "stream",
     "text": [
      "Python path: ['/Users/zackeryhe/Desktop/sophomore/cs178/178-final/models', '/Users/zackeryhe/Desktop/sophomore/cs178/178-final/models/models', '/opt/homebrew/Cellar/python@3.12/3.12.4/Frameworks/Python.framework/Versions/3.12/lib/python312.zip', '/opt/homebrew/Cellar/python@3.12/3.12.4/Frameworks/Python.framework/Versions/3.12/lib/python3.12', '/opt/homebrew/Cellar/python@3.12/3.12.4/Frameworks/Python.framework/Versions/3.12/lib/python3.12/lib-dynload', '/Users/zackeryhe/Desktop/sophomore/cs178/178-final/.venv/lib/python3.12/site-packages', '/Users/zackeryhe/Desktop/sophomore/cs178/178-final']\n",
      "Now CWD is: /Users/zackeryhe/Desktop/sophomore/cs178/178-final/models\n"
     ]
    }
   ],
   "source": [
    "import os\n",
    "import sys\n",
    "cwd = os.getcwd()\n",
    "if os.path.basename(cwd) == 'models':\n",
    "    models_dir   = cwd\n",
    "    project_root = os.path.dirname(cwd)\n",
    "else:\n",
    "    project_root = cwd\n",
    "    models_dir   = os.path.join(project_root, 'models')\n",
    "\n",
    "new_path = [models_dir]\n",
    "for p in sys.path:\n",
    "    if p in (models_dir, project_root) or p == '':\n",
    "        continue\n",
    "    new_path.append(p)\n",
    "new_path.append(project_root)\n",
    "sys.path[:] = new_path\n",
    "\n",
    "# CWD hacky solution\n",
    "print(\"Python path:\", sys.path)\n",
    "print(\"Now CWD is:\", os.getcwd())\n"
   ]
  },
  {
   "cell_type": "code",
   "execution_count": null,
   "id": "c74cd7c1",
   "metadata": {},
   "outputs": [
    {
     "name": "stdout",
     "output_type": "stream",
     "text": [
      "Now CWD is: /Users/zackeryhe/Desktop/sophomore/cs178/178-final\n"
     ]
    }
   ],
   "source": [
    "import numpy as np\n",
    "import matplotlib.pyplot as plt\n",
    "\n",
    "from utils.mnist_reader import load_mnist\n",
    "from sklearn.neighbors import KNeighborsClassifier\n",
    "from sklearn.preprocessing import StandardScaler, label_binarize\n",
    "from sklearn.model_selection import learning_curve\n",
    "from sklearn.metrics import (\n",
    "    confusion_matrix, ConfusionMatrixDisplay,\n",
    "    precision_recall_curve, PrecisionRecallDisplay\n",
    ")\n",
    "\n",
    "# change back\n",
    "cwd = os.getcwd()\n",
    "print(\"Now CWD is:\", os.getcwd())"
   ]
  },
  {
   "cell_type": "code",
   "execution_count": 13,
   "id": "4dfc2175",
   "metadata": {},
   "outputs": [],
   "source": [
    "class KNNModel:\n",
    "    def __init__(self, n_neighbors: int = 5, **kwargs):\n",
    "        self.model = KNeighborsClassifier(n_neighbors=n_neighbors, **kwargs)\n",
    "\n",
    "    def fit(self, X, y):\n",
    "        self.model.fit(X, y)\n",
    "        return self\n",
    "\n",
    "    def predict(self, X):\n",
    "        return self.model.predict(X)\n",
    "\n",
    "    def score(self, X, y):\n",
    "        return self.model.score(X, y)\n",
    "\n",
    "    def plot_learning_curve(self, X, y, cv=5, scoring='accuracy',\n",
    "                            train_sizes=np.linspace(0.1, 1.0, 5)):\n",
    "        train_sizes, train_scores, val_scores = learning_curve(\n",
    "            self.model, X, y,\n",
    "            cv=cv,\n",
    "            scoring=scoring,\n",
    "            train_sizes=train_sizes,\n",
    "            n_jobs=-1,\n",
    "            shuffle=True,\n",
    "            random_state=1234\n",
    "        )\n",
    "        train_mean = np.mean(train_scores, axis=1)\n",
    "        val_mean   = np.mean(val_scores, axis=1)\n",
    "\n",
    "        plt.figure()\n",
    "        plt.plot(train_sizes, train_mean, 'o-', label=\"Train score\")\n",
    "        plt.plot(train_sizes, val_mean,   'o-', label=\"CV score\")\n",
    "        plt.xlabel(\"Training examples\")\n",
    "        plt.ylabel(scoring.capitalize())\n",
    "        plt.title(\"Learning Curve\")\n",
    "        plt.legend(loc=\"best\")\n",
    "        plt.grid(True)\n",
    "        plt.show()\n",
    "\n",
    "    def plot_confusion_matrix(self, X, y, normalize=None, cmap=plt.cm.Blues):\n",
    "        y_pred = self.predict(X)\n",
    "        cm = confusion_matrix(y, y_pred, normalize=normalize)\n",
    "        disp = ConfusionMatrixDisplay(confusion_matrix=cm,\n",
    "                                      display_labels=self.model.classes_)\n",
    "        plt.figure()\n",
    "        disp.plot(cmap=cmap, values_format='.2f' if normalize else 'd',\n",
    "                  xticks_rotation=45)\n",
    "        plt.title(\"Confusion Matrix\" + (f\" (normalized)\" if normalize else \"\"))\n",
    "        plt.show()\n",
    "\n",
    "    def plot_precision_recall_curve(self, X, y, average='micro'):\n",
    "        if not hasattr(self.model, \"predict_proba\"):\n",
    "            raise AttributeError(\"Model has no `predict_proba`—cannot get scores.\")\n",
    "        \n",
    "        y_bin = label_binarize(y, classes=self.model.classes_)\n",
    "        y_score = self.model.predict_proba(X)\n",
    "\n",
    "        precision, recall, _ = precision_recall_curve(\n",
    "            y_bin.ravel(), y_score.ravel()\n",
    "        )\n",
    "        disp = PrecisionRecallDisplay(precision=precision, recall=recall)\n",
    "        plt.figure()\n",
    "        disp.plot()\n",
    "        plt.title(f\"Precision–Recall Curve ({average}-average)\")\n",
    "        plt.show()\n",
    "\n",
    "    def plot_error_rate_vs_k(self, X_train, y_train, X_test, y_test, k_range=None):\n",
    "        \"\"\"\n",
    "        Since K-NN has no training epochs, plot error rate vs. number of neighbors (k).\n",
    "        \"\"\"\n",
    "        if k_range is None:\n",
    "            k_range = range(1, 21)\n",
    "        error_rates = []\n",
    "        for k in k_range:\n",
    "            knn = KNeighborsClassifier(n_neighbors=k)\n",
    "            knn.fit(X_train, y_train)\n",
    "            error = 1 - knn.score(X_test, y_test)\n",
    "            error_rates.append(error)\n",
    "\n",
    "        plt.figure()\n",
    "        plt.plot(list(k_range), error_rates, 'o-')\n",
    "        plt.xlabel(\"Number of neighbors (k)\")\n",
    "        plt.ylabel(\"Error rate\")\n",
    "        plt.title(\"Error Rate vs. k\")\n",
    "        plt.grid(True)\n",
    "        plt.show()\n"
   ]
  },
  {
   "cell_type": "code",
   "execution_count": null,
   "id": "d99a84de",
   "metadata": {},
   "outputs": [
    {
     "ename": "FileNotFoundError",
     "evalue": "[Errno 2] No such file or directory: 'data/fashion/train-labels-idx1-ubyte.gz'",
     "output_type": "error",
     "traceback": [
      "\u001b[31m---------------------------------------------------------------------------\u001b[39m",
      "\u001b[31mFileNotFoundError\u001b[39m                         Traceback (most recent call last)",
      "\u001b[36mCell\u001b[39m\u001b[36m \u001b[39m\u001b[32mIn[14]\u001b[39m\u001b[32m, line 1\u001b[39m\n\u001b[32m----> \u001b[39m\u001b[32m1\u001b[39m X_train, y_train = \u001b[43mload_mnist\u001b[49m\u001b[43m(\u001b[49m\u001b[33;43m'\u001b[39;49m\u001b[33;43mdata/fashion\u001b[39;49m\u001b[33;43m'\u001b[39;49m\u001b[43m,\u001b[49m\u001b[43m \u001b[49m\u001b[43mkind\u001b[49m\u001b[43m=\u001b[49m\u001b[33;43m'\u001b[39;49m\u001b[33;43mtrain\u001b[39;49m\u001b[33;43m'\u001b[39;49m\u001b[43m)\u001b[49m\n\u001b[32m      2\u001b[39m X_test,  y_test  = load_mnist(\u001b[33m'\u001b[39m\u001b[33mdata/fashion\u001b[39m\u001b[33m'\u001b[39m, kind=\u001b[33m'\u001b[39m\u001b[33mt10k\u001b[39m\u001b[33m'\u001b[39m)\n\u001b[32m      5\u001b[39m scaler = StandardScaler()\n",
      "\u001b[36mFile \u001b[39m\u001b[32m~/Desktop/sophomore/cs178/178-final/utils/mnist_reader.py:14\u001b[39m, in \u001b[36mload_mnist\u001b[39m\u001b[34m(path, kind)\u001b[39m\n\u001b[32m      7\u001b[39m labels_path = os.path.join(path,\n\u001b[32m      8\u001b[39m                            \u001b[33m'\u001b[39m\u001b[38;5;132;01m%s\u001b[39;00m\u001b[33m-labels-idx1-ubyte.gz\u001b[39m\u001b[33m'\u001b[39m\n\u001b[32m      9\u001b[39m                            % kind)\n\u001b[32m     10\u001b[39m images_path = os.path.join(path,\n\u001b[32m     11\u001b[39m                            \u001b[33m'\u001b[39m\u001b[38;5;132;01m%s\u001b[39;00m\u001b[33m-images-idx3-ubyte.gz\u001b[39m\u001b[33m'\u001b[39m\n\u001b[32m     12\u001b[39m                            % kind)\n\u001b[32m---> \u001b[39m\u001b[32m14\u001b[39m \u001b[38;5;28;01mwith\u001b[39;00m \u001b[43mgzip\u001b[49m\u001b[43m.\u001b[49m\u001b[43mopen\u001b[49m\u001b[43m(\u001b[49m\u001b[43mlabels_path\u001b[49m\u001b[43m,\u001b[49m\u001b[43m \u001b[49m\u001b[33;43m'\u001b[39;49m\u001b[33;43mrb\u001b[39;49m\u001b[33;43m'\u001b[39;49m\u001b[43m)\u001b[49m \u001b[38;5;28;01mas\u001b[39;00m lbpath:\n\u001b[32m     15\u001b[39m     labels = np.frombuffer(lbpath.read(), dtype=np.uint8,\n\u001b[32m     16\u001b[39m                            offset=\u001b[32m8\u001b[39m)\n\u001b[32m     18\u001b[39m \u001b[38;5;28;01mwith\u001b[39;00m gzip.open(images_path, \u001b[33m'\u001b[39m\u001b[33mrb\u001b[39m\u001b[33m'\u001b[39m) \u001b[38;5;28;01mas\u001b[39;00m imgpath:\n",
      "\u001b[36mFile \u001b[39m\u001b[32m/opt/homebrew/Cellar/python@3.12/3.12.4/Frameworks/Python.framework/Versions/3.12/lib/python3.12/gzip.py:61\u001b[39m, in \u001b[36mopen\u001b[39m\u001b[34m(filename, mode, compresslevel, encoding, errors, newline)\u001b[39m\n\u001b[32m     59\u001b[39m gz_mode = mode.replace(\u001b[33m\"\u001b[39m\u001b[33mt\u001b[39m\u001b[33m\"\u001b[39m, \u001b[33m\"\u001b[39m\u001b[33m\"\u001b[39m)\n\u001b[32m     60\u001b[39m \u001b[38;5;28;01mif\u001b[39;00m \u001b[38;5;28misinstance\u001b[39m(filename, (\u001b[38;5;28mstr\u001b[39m, \u001b[38;5;28mbytes\u001b[39m, os.PathLike)):\n\u001b[32m---> \u001b[39m\u001b[32m61\u001b[39m     binary_file = \u001b[43mGzipFile\u001b[49m\u001b[43m(\u001b[49m\u001b[43mfilename\u001b[49m\u001b[43m,\u001b[49m\u001b[43m \u001b[49m\u001b[43mgz_mode\u001b[49m\u001b[43m,\u001b[49m\u001b[43m \u001b[49m\u001b[43mcompresslevel\u001b[49m\u001b[43m)\u001b[49m\n\u001b[32m     62\u001b[39m \u001b[38;5;28;01melif\u001b[39;00m \u001b[38;5;28mhasattr\u001b[39m(filename, \u001b[33m\"\u001b[39m\u001b[33mread\u001b[39m\u001b[33m\"\u001b[39m) \u001b[38;5;129;01mor\u001b[39;00m \u001b[38;5;28mhasattr\u001b[39m(filename, \u001b[33m\"\u001b[39m\u001b[33mwrite\u001b[39m\u001b[33m\"\u001b[39m):\n\u001b[32m     63\u001b[39m     binary_file = GzipFile(\u001b[38;5;28;01mNone\u001b[39;00m, gz_mode, compresslevel, filename)\n",
      "\u001b[36mFile \u001b[39m\u001b[32m/opt/homebrew/Cellar/python@3.12/3.12.4/Frameworks/Python.framework/Versions/3.12/lib/python3.12/gzip.py:192\u001b[39m, in \u001b[36mGzipFile.__init__\u001b[39m\u001b[34m(self, filename, mode, compresslevel, fileobj, mtime)\u001b[39m\n\u001b[32m    190\u001b[39m     mode += \u001b[33m'\u001b[39m\u001b[33mb\u001b[39m\u001b[33m'\u001b[39m\n\u001b[32m    191\u001b[39m \u001b[38;5;28;01mif\u001b[39;00m fileobj \u001b[38;5;129;01mis\u001b[39;00m \u001b[38;5;28;01mNone\u001b[39;00m:\n\u001b[32m--> \u001b[39m\u001b[32m192\u001b[39m     fileobj = \u001b[38;5;28mself\u001b[39m.myfileobj = \u001b[43mbuiltins\u001b[49m\u001b[43m.\u001b[49m\u001b[43mopen\u001b[49m\u001b[43m(\u001b[49m\u001b[43mfilename\u001b[49m\u001b[43m,\u001b[49m\u001b[43m \u001b[49m\u001b[43mmode\u001b[49m\u001b[43m \u001b[49m\u001b[38;5;129;43;01mor\u001b[39;49;00m\u001b[43m \u001b[49m\u001b[33;43m'\u001b[39;49m\u001b[33;43mrb\u001b[39;49m\u001b[33;43m'\u001b[39;49m\u001b[43m)\u001b[49m\n\u001b[32m    193\u001b[39m \u001b[38;5;28;01mif\u001b[39;00m filename \u001b[38;5;129;01mis\u001b[39;00m \u001b[38;5;28;01mNone\u001b[39;00m:\n\u001b[32m    194\u001b[39m     filename = \u001b[38;5;28mgetattr\u001b[39m(fileobj, \u001b[33m'\u001b[39m\u001b[33mname\u001b[39m\u001b[33m'\u001b[39m, \u001b[33m'\u001b[39m\u001b[33m'\u001b[39m)\n",
      "\u001b[31mFileNotFoundError\u001b[39m: [Errno 2] No such file or directory: 'data/fashion/train-labels-idx1-ubyte.gz'"
     ]
    }
   ],
   "source": [
    "X_train, y_train = load_mnist('data/fashion', kind='train')\n",
    "X_test,  y_test  = load_mnist('data/fashion', kind='t10k')\n",
    "\n",
    "\n",
    "scaler = StandardScaler()\n",
    "X_train = scaler.fit_transform(X_train)\n",
    "X_test  = scaler.transform(X_test)\n",
    "\n",
    "knn = KNNModel(n_neighbors=5)\n",
    "knn.fit(X_train, y_train)"
   ]
  },
  {
   "cell_type": "code",
   "execution_count": null,
   "id": "465411a4",
   "metadata": {},
   "outputs": [],
   "source": [
    "\n",
    "print(\"Train accuracy:\", knn.score(X_train, y_train))\n",
    "print(\"Test accuracy: \", knn.score(X_test,  y_test))\n"
   ]
  },
  {
   "cell_type": "code",
   "execution_count": null,
   "id": "e5ff4850",
   "metadata": {},
   "outputs": [],
   "source": [
    "knn.plot_learning_curve(X_train, y_train)"
   ]
  },
  {
   "cell_type": "code",
   "execution_count": null,
   "id": "a38ddf76",
   "metadata": {},
   "outputs": [],
   "source": [
    "knn.plot_confusion_matrix(X_test, y_test, normalize='true')"
   ]
  },
  {
   "cell_type": "code",
   "execution_count": null,
   "id": "65ae7d4a",
   "metadata": {},
   "outputs": [],
   "source": [
    "knn.plot_precision_recall_curve(X_test, y_test)"
   ]
  },
  {
   "cell_type": "code",
   "execution_count": null,
   "id": "aaefbc56",
   "metadata": {},
   "outputs": [],
   "source": [
    "knn.plot_error_rate_vs_k(X_train, y_train, X_test, y_test, k_range=range(1, 21))"
   ]
  }
 ],
 "metadata": {
  "kernelspec": {
   "display_name": ".venv",
   "language": "python",
   "name": "python3"
  },
  "language_info": {
   "codemirror_mode": {
    "name": "ipython",
    "version": 3
   },
   "file_extension": ".py",
   "mimetype": "text/x-python",
   "name": "python",
   "nbconvert_exporter": "python",
   "pygments_lexer": "ipython3",
   "version": "3.12.4"
  }
 },
 "nbformat": 4,
 "nbformat_minor": 5
}
